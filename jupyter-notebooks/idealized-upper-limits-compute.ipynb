{
 "cells": [
  {
   "cell_type": "markdown",
   "id": "3d5270db-405b-4a0e-8d90-747f1b72b505",
   "metadata": {},
   "source": [
    "## This notbeook computes the idealized search limits for a given network of future detectors\n",
    "#### User needs to pass results file (.hdf) containing the following for a population of simulated injections\n",
    "* Network SNR\n",
    "* Parameter values -- mchirp & eccentricity"
   ]
  },
  {
   "cell_type": "markdown",
   "id": "06cf43c1-c72d-4f65-91a6-4da552ccd7a6",
   "metadata": {},
   "source": [
    "### Obtain the efficiency factor (fraction of measurable and detectable injections) for a given detector configuration"
   ]
  },
  {
   "cell_type": "code",
   "execution_count": 1,
   "id": "00149111-0ae9-4f44-8462-79be0efe15e1",
   "metadata": {},
   "outputs": [],
   "source": [
    "import numpy as np, glob,h5py,dynesty,corner,time\n",
    "import pycbc\n",
    "import numpy as np\n",
    "from pycbc import filter, psd, waveform, types, conversions, cosmology\n",
    "import astropy \n",
    "from scipy.interpolate import interp1d\n",
    "from scipy.interpolate import griddata\n",
    "import scipy\n",
    "import glob\n",
    "import pickle\n",
    "import h5py\n",
    "from scipy.interpolate import interp1d, griddata, RegularGridInterpolator, Rbf\n",
    "from decimal import Decimal\n",
    "import matplotlib.pyplot as plt\n",
    "plt.rcParams.update({\n",
    "    \"text.usetex\": True})\n",
    "from matplotlib.colors import Normalize\n",
    "import seaborn as sns\n",
    "import matplotlib as mpl\n",
    "from matplotlib import rc\n",
    "\n",
    "\n",
    "\n",
    "sns.set_palette(palette='deep')\n",
    "sns_c = sns.color_palette(palette='deep')\n",
    "\n",
    "mpl.rcParams['figure.figsize'] = [20.0, 7.0]\n",
    "plt.rcParams['figure.dpi'] = 600\n",
    "mpl.rcParams['font.size'] = 18\n",
    "\n",
    "rc('font', family='serif', weight = 'bold')\n",
    "rc('text', usetex=True)\n",
    "\n",
    "colors = sns.color_palette(\"husl\", 8)"
   ]
  },
  {
   "cell_type": "code",
   "execution_count": 20,
   "id": "441af06a-2d9a-49b5-958f-8a3db344e8fe",
   "metadata": {},
   "outputs": [],
   "source": [
    "models = ['belzynscki', 'sedda', 'trani', 'fragione']\n",
    "model_labels = ['Belczynski et al. (2018a) (globular cluster)',\n",
    "                'Arca Sedda (2020b) (globular cluster)',\n",
    "               'Trani et al. (2021) (triples)',\n",
    "               'Fragione et al. (2019) (nuclear cluster)']\n",
    "\n",
    "#det_list = ['O3', 'aplus', 'asharp', 'ET', 'CE', 'CE-ET']\n",
    "det_list = ['asharp']\n",
    "\n",
    "local_merger_rate_dict = {'asharp': [5000, 5000, 5000, 5000],\n",
    "                          'CE': [275,275,275,275],\n",
    "                          }"
   ]
  },
  {
   "cell_type": "markdown",
   "id": "27c72edc-7ffc-417f-b48c-7abd8cd33422",
   "metadata": {},
   "source": [
    "### Sensitive volume for fixed detectable eccentricity or as a function of the parameter space?\n",
    "#### Change the value of detectable_ecc \n",
    "#### change it to 1e-10 to get limits corresponding to the full population"
   ]
  },
  {
   "cell_type": "code",
   "execution_count": 21,
   "id": "70f8f168-b490-4735-bf13-bbf509d9d3ff",
   "metadata": {},
   "outputs": [
    {
     "name": "stdout",
     "output_type": "stream",
     "text": [
      "Fixed eccentricity:  True\n",
      "asharp\n",
      "belzynscki Total 5000000 constrained sources :  5000000 ndetected:  23715 Vol:  3.2347260000000007 max det_mchirp detected:  6.4483790372662355 0.004743\n",
      "sedda Total 5000000 constrained sources :  5000000 ndetected:  108163 Vol:  14.753433200000002 max det_mchirp detected:  21.646700386896057 0.0216326\n",
      "trani Total 5000000 constrained sources :  5000000 ndetected:  147880 Vol:  20.170832 max det_mchirp detected:  24.164718623412636 0.029576\n",
      "fragione Total 5000000 constrained sources :  5000000 ndetected:  107305 Vol:  14.636402 max det_mchirp detected:  18.31918543468221 0.021461\n"
     ]
    }
   ],
   "source": [
    "fixed_ecc = True\n",
    "print('Fixed eccentricity: ', fixed_ecc)\n",
    "\n",
    "if fixed_ecc:\n",
    "    detectable_ecc = 1e-10\n",
    "    snr_threshold = 10.0\n",
    "    \n",
    "    upper_limit = {}\n",
    "    sens_volume = {}\n",
    "    for det in det_list:\n",
    "        print(det)\n",
    "        label_ind = 0\n",
    "        \n",
    "        for model in models:\n",
    "            results_file = '{}/results/{}.hdf'.format(model, det)\n",
    "            local_merger_rate = local_merger_rate_dict[det][label_ind]\n",
    "            \n",
    "            hf = h5py.File(results_file,'r')\n",
    "           \n",
    "            e = np.sort(hf['valid/eccentricity'][:])\n",
    "            det_mchirp = np.array(hf['valid/mchirp'][:])\n",
    "            snrs = np.array(hf['valid/sigma'][:])\n",
    "\n",
    "            inde = e > detectable_ecc\n",
    "            inde = np.array(inde)\n",
    "\n",
    "            nsources = len(np.where(inde == True)[0])\n",
    "            ndetected = len(np.where(snrs[inde] > snr_threshold)[0])\n",
    "            detected_ind = snrs[inde] > snr_threshold\n",
    "\n",
    "            print(model, 'Total', len(det_mchirp), 'constrained sources : ', nsources, 'ndetected: ', ndetected, 'Vol: ',\n",
    "                  float(ndetected)/local_merger_rate*0.682, 'max det_mchirp detected: ',  max(det_mchirp[inde]), ndetected/len(det_mchirp))           \n",
    "\n",
    "            upper_limit[model_labels[label_ind]] = local_merger_rate * 2.303 / float(ndetected) \n",
    "            label_ind += 1"
   ]
  },
  {
   "cell_type": "code",
   "execution_count": 22,
   "id": "ca3aefe1-0777-44f6-824f-730c4c7be811",
   "metadata": {},
   "outputs": [
    {
     "name": "stdout",
     "output_type": "stream",
     "text": [
      "Limits for systems with a fixed eccentricity threshold of : 1e-10\n",
      "{'Belczynski et al. (2018a) (globular cluster)': 0.48555766392578537, 'Arca Sedda (2020b) (globular cluster)': 0.10645969508981815, 'Trani et al. (2021) (triples)': 0.0778671896131999, 'Fragione et al. (2019) (nuclear cluster)': 0.10731093611667676}\n"
     ]
    }
   ],
   "source": [
    "print('Limits for systems with a fixed eccentricity threshold of :', detectable_ecc)\n",
    "print(upper_limit)"
   ]
  },
  {
   "cell_type": "markdown",
   "id": "4a429ab0-bb4c-4187-be79-f282615763c7",
   "metadata": {},
   "source": [
    "## Now we compute limits for measurably eccentric systems\n",
    "#### $\\mathcal{M}_c$ and $e_{10}$ grid points as a function of SNR are required for this operation. We will then interpolate the 3d volume btw these points and also extrpolate the function to estimate the fraction of injections recovered"
   ]
  },
  {
   "cell_type": "code",
   "execution_count": 23,
   "id": "82e48de5-b054-426f-a03c-7be63b814557",
   "metadata": {},
   "outputs": [],
   "source": [
    "def get_3d_interpolant(e_dict, mc_dict):\n",
    "    x_array = np.array([])\n",
    "    y_array = np.array([])\n",
    "    z_array = np.array([])\n",
    "    for key in e_dict.keys():\n",
    "        e = e_dict[key]\n",
    "        mc = mc_dict[key]\n",
    "\n",
    "        x = np.linspace(np.log10(min(e_dict[key])), np.log10(max(e_dict[key])), 500)\n",
    "        interp = interp1d(np.log10(e), mc, fill_value='extrapolate', kind='linear')\n",
    "        snr = np.full(x.shape, float(key))\n",
    "        #plt.scatter(np.log10(e), mc, marker='x')\n",
    "\n",
    "        x_array = np.concatenate([x_array, x])\n",
    "        y_array = np.concatenate([y_array, interp(x)])\n",
    "        z_array = np.concatenate([z_array, snr])\n",
    "        #ax.scatter(x, interp(x), snr, s=60, c='k')\n",
    "        #plt.plot(x, interp(x), label=float(key))\n",
    "\n",
    "    xx, yy = np.meshgrid(np.linspace(np.log10(1e-4),np.log10(0.2),50), np.linspace(1.0,70.0,50))\n",
    "    zz = griddata((x_array, y_array), z_array, (xx,yy), method='linear')\n",
    "\n",
    "\n",
    "    rbf3 = Rbf(x_array, y_array, z_array, function='multiquadric', smooth=4)\n",
    "    zz = rbf3(xx,yy)\n",
    "    return rbf3\n",
    "\n",
    "def read_results(filename, det):\n",
    "    hf = h5py.File(filename)\n",
    "    if det == '3-O3':\n",
    "        mass1 = np.array(hf['mass1'][:])\n",
    "        mass2 = np.array(hf['mass2'][:])\n",
    "        eccentricity = np.array(hf['eccentricity'][:])\n",
    "        sigma = np.array(hf['sigma'][:])\n",
    "    else:\n",
    "        mass1 = np.array(hf['valid/mass1'][:])\n",
    "        mass2 = np.array(hf['valid/mass2'][:])\n",
    "        eccentricity = np.array(hf['valid/eccentricity'][:])\n",
    "        sigma = np.array(hf['valid/sigma'][:])\n",
    "            \n",
    "    mchirp = conversions.mchirp_from_mass1_mass2(mass1, mass2)\n",
    "    return eccentricity, mchirp, sigma"
   ]
  },
  {
   "cell_type": "code",
   "execution_count": 14,
   "id": "06ab8f11-0efd-4556-90d2-d86fee485466",
   "metadata": {},
   "outputs": [
    {
     "name": "stdout",
     "output_type": "stream",
     "text": [
      "e grid:  ../Fischer-analysis/asharp-results-e.pkl \n",
      " mc grid: ../Fischer-analysis/asharp-results-mc.pkl\n"
     ]
    }
   ],
   "source": [
    "e_file = '../Fischer-analysis/asharp-results-e.pkl'\n",
    "mc_file = '../Fischer-analysis/asharp-results-mc.pkl'\n",
    "print('e grid: ', e_file, '\\n mc grid:', mc_file)\n",
    "\n",
    "with open(e_file, 'rb') as efile:\n",
    "    e_dict = pickle.load(efile)\n",
    "with open(mc_file, 'rb') as mcfile:\n",
    "    mc_dict = pickle.load(mcfile)\n",
    "    \n",
    "rbf3 = get_3d_interpolant(e_dict, mc_dict)"
   ]
  },
  {
   "cell_type": "code",
   "execution_count": 15,
   "id": "3413b0ea-070f-4241-b6dd-05235a07d834",
   "metadata": {},
   "outputs": [
    {
     "name": "stdout",
     "output_type": "stream",
     "text": [
      "belzynscki Detectable: 23715 Measurable:  9 Total:  5000000\n",
      "sedda Detectable: 108163 Measurable:  1350 Total:  5000000\n",
      "trani Detectable: 147880 Measurable:  15614 Total:  5000000\n",
      "fragione Detectable: 107305 Measurable:  43749 Total:  5000000\n"
     ]
    }
   ],
   "source": [
    "det = 'asharp'\n",
    "snr_threshold = 10.0\n",
    "\n",
    "#models = ['sedda','trani','fragione']\n",
    "#models = ['belzynscki']\n",
    "upper_limit_measurable = {}\n",
    "\n",
    "label_ind = 0\n",
    "for model in models:\n",
    "    results_file = '{}/results/{}.hdf'.format(model, det)\n",
    "    #results_file = 'belzynscki/results/scaled-2-O3.hdf'\n",
    "    local_merger_rate = local_merger_rate_dict[det][label_ind]\n",
    "    \n",
    "    e_temp, mc_temp, sigma_temp = read_results(results_file, det)\n",
    "    sort_i = np.argsort(sigma_temp)\n",
    "    ind = sort_i[np.where(sigma_temp[sort_i] > snr_threshold)[0]]\n",
    "\n",
    "    sigma = sigma_temp[ind]\n",
    "    eccentricity = e_temp[ind]\n",
    "    mchirp = mc_temp[ind]\n",
    "\n",
    "    count = 0\n",
    "    measured_ind = []\n",
    "    for k in range(len(eccentricity)):\n",
    "        interp_snr = rbf3(np.log10(eccentricity[k]), mchirp[k])\n",
    "        if sigma[k] > interp_snr:\n",
    "            count += 1\n",
    "            measured_ind.append(k)\n",
    "    \n",
    "    frac_sources = float(count)/len(e_temp)               \n",
    "    upper_limit_measurable[model_labels[label_ind]] = float(\"{:.3e}\".format(2.303*local_merger_rate/count))\n",
    "    print(model, 'Detectable:', len(eccentricity), 'Measurable: ', count, 'Total: ', len(e_temp))\n",
    "    label_ind += 1"
   ]
  },
  {
   "cell_type": "code",
   "execution_count": 19,
   "id": "d9247b86-b2e8-44a4-81ef-5508bf6bb356",
   "metadata": {},
   "outputs": [
    {
     "name": "stdout",
     "output_type": "stream",
     "text": [
      "{'Belczynski et al. (2018a) (globular cluster)': 1279.0, 'Arca Sedda (2020b) (globular cluster)': 8.53, 'Trani et al. (2021) (triples)': 0.7375, 'Fragione et al. (2019) (nuclear cluster)': 0.2632}\n"
     ]
    }
   ],
   "source": [
    "print(upper_limit_measurable)"
   ]
  }
 ],
 "metadata": {
  "kernelspec": {
   "display_name": "Python 3 (ipykernel)",
   "language": "python",
   "name": "python3"
  },
  "language_info": {
   "codemirror_mode": {
    "name": "ipython",
    "version": 3
   },
   "file_extension": ".py",
   "mimetype": "text/x-python",
   "name": "python",
   "nbconvert_exporter": "python",
   "pygments_lexer": "ipython3",
   "version": "3.7.3"
  }
 },
 "nbformat": 4,
 "nbformat_minor": 5
}
